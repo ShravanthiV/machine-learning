{
  "nbformat": 4,
  "nbformat_minor": 0,
  "metadata": {
    "colab": {
      "provenance": []
    },
    "kernelspec": {
      "name": "python3",
      "display_name": "Python 3"
    },
    "language_info": {
      "name": "python"
    }
  },
  "cells": [
    {
      "cell_type": "markdown",
      "source": [
        "Program 1"
      ],
      "metadata": {
        "id": "bq5IzWl1L_eJ"
      }
    },
    {
      "cell_type": "code",
      "source": [
        "def find_s_algorithm(examples):\n",
        "    hypothesis = None\n",
        "    for example in examples:\n",
        "        instance, label = example[:-1], example[-1]\n",
        "        if label == 'yes':\n",
        "            if hypothesis is None:\n",
        "                hypothesis = list(instance)\n",
        "            else:\n",
        "\n",
        "                for i in range(len(hypothesis)):\n",
        "                    if hypothesis[i] != instance[i]:\n",
        "                        hypothesis[i] = '?'\n",
        "    return hypothesis\n",
        "examples = [\n",
        "    ['Sunny', 'Warm', 'Normal', 'Strong', 'Warm', 'Same', 'yes'],\n",
        "    ['Sunny', 'Warm', 'High', 'Strong', 'Warm', 'Same', 'yes'],\n",
        "    ['Rainy', 'Cold', 'High', 'Strong', 'Warm', 'Change', 'no'],\n",
        "    ['Sunny', 'Warm', 'High', 'Strong', 'Cool', 'Change', 'yes']\n",
        "]\n",
        "hypothesis = find_s_algorithm(examples)\n",
        "print(\"Final hypothesis:\", hypothesis)"
      ],
      "metadata": {
        "colab": {
          "base_uri": "https://localhost:8080/"
        },
        "id": "4c0wozdBLulQ",
        "outputId": "d80bed9d-b2c5-481f-ab11-902a5a8906b8"
      },
      "execution_count": 1,
      "outputs": [
        {
          "output_type": "stream",
          "name": "stdout",
          "text": [
            "Final hypothesis: ['Sunny', 'Warm', '?', 'Strong', '?', '?']\n"
          ]
        }
      ]
    },
    {
      "cell_type": "markdown",
      "source": [
        "Program 2"
      ],
      "metadata": {
        "id": "2Qy9w1fpQZv2"
      }
    },
    {
      "cell_type": "code",
      "metadata": {
        "colab": {
          "base_uri": "https://localhost:8080/"
        },
        "id": "08aa6e81",
        "outputId": "10225290-22c9-4df4-f6cd-c19b0bbd9193"
      },
      "source": [
        "def is_more_general(h1, h2):\n",
        "    for x, y in zip(h1, h2):\n",
        "        if x != '?' and x != y:\n",
        "            return False\n",
        "    return True\n",
        "\n",
        "def min_generalize(h, x):\n",
        "    new_h = list(h)\n",
        "    for i in range(len(h)):\n",
        "        if h[i] != x[i]:\n",
        "            new_h[i] = '?'\n",
        "    return new_h\n",
        "def candidate_elimination(examples, domains):\n",
        "    n = len(examples[0]) - 1\n",
        "    S = ['0'] * n\n",
        "    G = ['?'] * n\n",
        "    for example in examples:\n",
        "        x, label = example[:-1], example[-1]\n",
        "        if label == 'yes':\n",
        "            if not is_more_general(G, x):\n",
        "                G = ['?'] * n\n",
        "            if S == ['0'] * n:\n",
        "                S = x\n",
        "            else:\n",
        "                S = min_generalize(S, x)\n",
        "        else:\n",
        "            new_G = []\n",
        "            for i in range(n):\n",
        "                if G[i] == '?':\n",
        "                    for value in domains[i]:\n",
        "                        if value != x[i]:\n",
        "                            new_h = list(G)\n",
        "                            new_h[i] = value\n",
        "                            new_G.append(new_h)\n",
        "                elif G[i] != x[i]:\n",
        "                    new_G.append(G)\n",
        "            G = new_G[0] if new_G else G\n",
        "            if is_more_general(S, x):\n",
        "                S = ['0'] * n\n",
        "    return S, G\n",
        "domains = [\n",
        "    ['Sunny', 'Rainy', 'Overcast'],\n",
        "    ['Warm', 'Cold'],\n",
        "    ['Normal', 'High'],\n",
        "    ['Strong', 'Weak']\n",
        "]\n",
        "examples = [\n",
        "    ['Sunny', 'Warm', 'Normal', 'Strong', 'yes'],\n",
        "    ['Sunny', 'Warm', 'High', 'Strong', 'yes'],\n",
        "    ['Rainy', 'Cold', 'High', 'Strong', 'no'],\n",
        "    ['Sunny', 'Warm', 'High', 'Weak', 'yes']\n",
        "]\n",
        "S, G = candidate_elimination(examples, domains)\n",
        "print(\"Final Specific boundary (S):\", S)\n",
        "print(\"Final General boundary (G):\", G)"
      ],
      "execution_count": 3,
      "outputs": [
        {
          "output_type": "stream",
          "name": "stdout",
          "text": [
            "Final Specific boundary (S): ['Sunny', 'Warm', '?', '?']\n",
            "Final General boundary (G): ['Sunny', '?', '?', '?']\n"
          ]
        }
      ]
    },
    {
      "cell_type": "markdown",
      "source": [
        "program 2 with error dataset"
      ],
      "metadata": {
        "id": "WfpNz44tPou4"
      }
    },
    {
      "cell_type": "code",
      "source": [
        "def is_more_general(h1, h2):\n",
        "    for x, y in zip(h1, h2):\n",
        "        if x != '?' and x != y:\n",
        "            return False\n",
        "    return True\n",
        "def min_generalize(h, x):\n",
        "    new_h = list(h)\n",
        "    for i in range(len(h)):\n",
        "        if h[i] != x[i]:\n",
        "            new_h[i] = '?'\n",
        "    return new_h\n",
        "def candidate_elimination_with_error_detection(examples, domains):\n",
        "    n = len(examples[0]) - 1\n",
        "    S = ['0'] * n\n",
        "    G = ['?'] * n\n",
        "    for idx, example in enumerate(examples):\n",
        "        x, label = example[:-1], example[-1]\n",
        "\n",
        "        if label == 'yes':\n",
        "            if S != ['0'] * n and not is_more_general(S, x):\n",
        "                print(f\"Error: Contradictory positive example at index {idx}: {example}\")\n",
        "                continue\n",
        "            if not is_more_general(G, x):\n",
        "                G = ['?'] * n\n",
        "            if S == ['0'] * n:\n",
        "                S = x\n",
        "            else:\n",
        "                S = min_generalize(S, x)\n",
        "        elif label == 'no':\n",
        "            if is_more_general(S, x):\n",
        "                print(f\"Error: Contradictory negative example at index {idx}: {example}\")\n",
        "                continue\n",
        "            new_G = []\n",
        "            for i in range(n):\n",
        "                if G[i] == '?':\n",
        "                    for value in domains[i]:\n",
        "                        if value != x[i]:\n",
        "                            new_h = list(G)\n",
        "                            new_h[i] = value\n",
        "                            new_G.append(new_h)\n",
        "                elif G[i] != x[i]:\n",
        "                    new_G.append(G)\n",
        "            G = new_G[0] if new_G else G\n",
        "    return S, G\n",
        "domains = [\n",
        "    ['Sunny', 'Rainy', 'Overcast'],\n",
        "    ['Warm', 'Cold'],\n",
        "    ['Normal', 'High'],\n",
        "    ['Strong', 'Weak']\n",
        "]\n",
        "examples = [\n",
        "    ['Sunny', 'Warm', 'Normal', 'Strong', 'yes'],\n",
        "    ['Sunny', 'Warm', 'High', 'Strong', 'yes'],\n",
        "    ['Rainy', 'Cold', 'High', 'Strong', 'no'],\n",
        "    ['Sunny', 'Warm', 'High', 'Weak', 'yes'],\n",
        "    ['Sunny', 'Warm', 'High', 'Strong', 'no']  #error\n",
        "]\n",
        "S, G = candidate_elimination_with_error_detection(examples, domains)\n",
        "print(\"Final Specific boundary (S):\", S)\n",
        "print(\"Final General boundary (G):\", G)\n"
      ],
      "metadata": {
        "colab": {
          "base_uri": "https://localhost:8080/"
        },
        "id": "P3o-24HzPn44",
        "outputId": "9d74f32f-a860-4578-a3b8-694f8fa41663"
      },
      "execution_count": 4,
      "outputs": [
        {
          "output_type": "stream",
          "name": "stdout",
          "text": [
            "Error: Contradictory positive example at index 1: ['Sunny', 'Warm', 'High', 'Strong', 'yes']\n",
            "Error: Contradictory positive example at index 3: ['Sunny', 'Warm', 'High', 'Weak', 'yes']\n",
            "Final Specific boundary (S): ['Sunny', 'Warm', 'Normal', 'Strong']\n",
            "Final General boundary (G): ['Sunny', 'Cold', '?', '?']\n"
          ]
        }
      ]
    },
    {
      "cell_type": "markdown",
      "source": [
        "program 2 with unknown dataset."
      ],
      "metadata": {
        "id": "vUbr3hKwQeg4"
      }
    },
    {
      "cell_type": "code",
      "source": [
        "def is_more_general(h1, h2):\n",
        "    for x, y in zip(h1, h2):\n",
        "        if x != '?' and x != y:\n",
        "            return False\n",
        "    return True\n",
        "def min_generalize(h, x):\n",
        "    new_h = list(h)\n",
        "    for i in range(len(h)):\n",
        "        if h[i] != x[i]:\n",
        "            new_h[i] = '?'\n",
        "    return new_h\n",
        "def candidate_elimination_with_unknowns(examples, domains):\n",
        "    n = len(examples[0]) - 1\n",
        "    S = ['0'] * n\n",
        "    G = ['?'] * n\n",
        "    for idx, example in enumerate(examples):\n",
        "        x, label = example[:-1], example[-1]\n",
        "        if label == '?':\n",
        "            print(f\"Skipping example {idx} with unknown label: {example}\")\n",
        "            continue\n",
        "        if label == 'yes':\n",
        "            if not is_more_general(G, x):\n",
        "                G = ['?'] * n\n",
        "            if S == ['0'] * n:\n",
        "                S = x\n",
        "            else:\n",
        "                S = min_generalize(S, x)\n",
        "        elif label == 'no':\n",
        "            new_G = []\n",
        "            for i in range(n):\n",
        "                if G[i] == '?':\n",
        "                    for value in domains[i]:\n",
        "                        if value != x[i]:\n",
        "                            new_h = list(G)\n",
        "                            new_h[i] = value\n",
        "                            new_G.append(new_h)\n",
        "                elif G[i] != x[i]:\n",
        "                    new_G.append(G)\n",
        "            G = new_G[0] if new_G else G\n",
        "            if is_more_general(S, x):\n",
        "                S = ['0'] * n\n",
        "    return S, G\n",
        "domains = [\n",
        "    ['Sunny', 'Rainy', 'Overcast'],\n",
        "    ['Warm', 'Cold'],\n",
        "    ['Normal', 'High'],\n",
        "    ['Strong', 'Weak']\n",
        "]\n",
        "examples = [\n",
        "    ['Sunny', 'Warm', 'Normal', 'Strong', 'yes'],\n",
        "    ['Sunny', 'Warm', 'High', 'Strong', 'yes'],\n",
        "    ['Rainy', 'Cold', 'High', 'Strong', 'no'],\n",
        "    ['Sunny', 'Warm', 'High', 'Weak', 'yes'],\n",
        "    ['Rainy', 'Warm', 'High', 'Strong', '?'],  # Unknown\n",
        "    ['Sunny', 'Cold', 'Normal', 'Weak', '?']   # Unknown\n",
        "]\n",
        "S, G = candidate_elimination_with_unknowns(examples, domains)\n",
        "print(\"Final Specific boundary (S):\", S)\n",
        "print(\"Final General boundary (G):\", G)\n"
      ],
      "metadata": {
        "colab": {
          "base_uri": "https://localhost:8080/"
        },
        "id": "wJ_b77yHQj9f",
        "outputId": "b473caa5-c00f-494c-80e0-6e5fbdb2a266"
      },
      "execution_count": 5,
      "outputs": [
        {
          "output_type": "stream",
          "name": "stdout",
          "text": [
            "Skipping example 4 with unknown label: ['Rainy', 'Warm', 'High', 'Strong', '?']\n",
            "Skipping example 5 with unknown label: ['Sunny', 'Cold', 'Normal', 'Weak', '?']\n",
            "Final Specific boundary (S): ['Sunny', 'Warm', '?', '?']\n",
            "Final General boundary (G): ['Sunny', '?', '?', '?']\n"
          ]
        }
      ]
    }
  ]
}